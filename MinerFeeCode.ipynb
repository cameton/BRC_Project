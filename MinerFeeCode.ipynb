{
 "cells": [
  {
   "cell_type": "code",
   "execution_count": 1,
   "metadata": {},
   "outputs": [],
   "source": [
    "import numpy as np\n",
    "import scipy.stats\n",
    "import scipy.linalg\n",
    "import matplotlib.pyplot as plt\n",
    "import pandas as pd\n",
    "import seaborn as sns\n",
    "import warnings\n",
    "import sklearn as sk\n",
    "import sklearn.gaussian_process as gp\n",
    "warnings.filterwarnings('ignore')\n",
    "%matplotlib inline"
   ]
  },
  {
   "cell_type": "code",
   "execution_count": 2,
   "metadata": {},
   "outputs": [],
   "source": [
    "class Transaction(object):\n",
    "    \n",
    "    N = 10\n",
    "    n = 2900\n",
    "    endtime = 0\n",
    "    \n",
    "    # Initialize. Complete manual initialization\n",
    "    def __init__(self, time,tran_id, sender_id, receiver_id, amount, fee):\n",
    "        self.starttime = time\n",
    "        self.tran_id = tran_id\n",
    "        self.sender_id = sender_id\n",
    "        self.receiver_id = receiver_id\n",
    "        self.amount = amount\n",
    "        self.fee = fee\n",
    "        self.total = fee+amount\n",
    "        \n",
    "    #Initialize. amount and fees determined using predetermined rates\n",
    "    def __init__(self,time):\n",
    "        self.starttime = time\n",
    "        self.tran_id = 1\n",
    "        self.sender_id = np.random.randint(0,self.n+1)\n",
    "        self.receiver_id = np.random.randint(0,self.n+1)\n",
    "        self.amount = np.random.randint(5,26)\n",
    "        self.fee = (np.random.randint(1,3)/100)*self.amount\n",
    "        self.total = self.amount+self.fee\n",
    "    \n",
    "    # Print a Transaction\n",
    "    def __repr__(self):\n",
    "        send = str(self.fee) \n",
    "        return send"
   ]
  },
  {
   "cell_type": "code",
   "execution_count": 3,
   "metadata": {},
   "outputs": [
    {
     "name": "stdout",
     "output_type": "stream",
     "text": [
      "[2 3]\n"
     ]
    }
   ],
   "source": [
    "hi = [1,2, 9, 17, 4,3,2]\n",
    "newa =  np.argsort(hi)[-2:]\n",
    "h = np.array(hi)[newa]\n",
    "print(newa)"
   ]
  },
  {
   "cell_type": "code",
   "execution_count": 4,
   "metadata": {},
   "outputs": [
    {
     "ename": "IndentationError",
     "evalue": "unexpected indent (<ipython-input-4-7423605f3adf>, line 5)",
     "output_type": "error",
     "traceback": [
      "\u001b[0;36m  File \u001b[0;32m\"<ipython-input-4-7423605f3adf>\"\u001b[0;36m, line \u001b[0;32m5\u001b[0m\n\u001b[0;31m    plt.figure()\u001b[0m\n\u001b[0m    ^\u001b[0m\n\u001b[0;31mIndentationError\u001b[0m\u001b[0;31m:\u001b[0m unexpected indent\n"
     ]
    }
   ],
   "source": [
    "    zipped = zip(duration, amountt)\n",
    "    saved = pd.DataFrame(list(sorted(zipped, key=lambda x: x[1])), columns=['delay(hours)', 'fee amount'])\n",
    "    sns.jointplot(x=\"fee amount\", y=\"delay(hours)\", data=saved, kind=\"kde\")\n",
    "    \n",
    "     plt.figure()\n",
    "    cumu = np.cumsum(Block.totalamount)\n",
    "    ave = cumu/Block.time\n",
    "    plt.step(Block.time, ave, where='post')\n",
    "    plt.ylabel(\"Average Amount Transferred / Hour\")\n",
    "    plt.xlabel(\"Time (Hours)\")\n",
    "    plt.title(\"Average Amount of Money Transferred per Hour when K={}\".format(i))\n",
    "    plt.show()\n",
    "    \n",
    "    plt.figure()\n",
    "    newb = Block.NumberinBlock[1500:]\n",
    "    newt= np.array(Block.time[1500:]) - Block.time[1499]\n",
    "    bnum = np.cumsum(Block.NumberinBlock)\n",
    "    avenum = bnum/Block.time\n",
    "    plt.step(Block.time, avenum, where='post')\n",
    "    plt.ylabel(\"Transactions Completed / Hour\")\n",
    "    plt.xlabel(\"Time (Hours)\")\n",
    "    plt.title(\"Average Number of Transactions per Hour when K={}\".format(i))\n",
    "    plt.show()\n",
    "    \n",
    "    plt.figure()\n",
    "    plt.step(times, qsize, where='post')\n",
    "    plt.ylabel(\"Queue Length\")\n",
    "    plt.xlabel(\"Time (Hours)\")\n",
    "    plt.title(\"Queue Length when $\\mu$ = 30,  K={}\".format(i))\n",
    "    plt.show()"
   ]
  },
  {
   "cell_type": "code",
   "execution_count": 5,
   "metadata": {},
   "outputs": [],
   "source": [
    "import queue\n",
    "\n",
    "#create an object for blocks, such that in the poisson process there is less to write\n",
    "class BlockQueue(object):\n",
    "       \n",
    "    K = 12\n",
    "    N = 10\n",
    "    n = 2900\n",
    "    MiningRate = 10\n",
    "    \n",
    "    # Initialize a Queue\n",
    "    def __init__(self, MiningRate, K):\n",
    "        self.MiningRate = MiningRate\n",
    "        self.waitingentities = [] #priority\n",
    "        self.NumberinBlock = []\n",
    "        self.totalfee = []\n",
    "        self.accounts = np.zeros(self.N)\n",
    "        self.totalamount = []\n",
    "        self.time = []\n",
    "        self.Numblocks = 0\n",
    "        self.finished = []\n",
    "        self.K = K\n",
    "        self.avetime = []\n",
    "        \n",
    "    # Print a Queue (just its name and the entire list of waiting Entities)\n",
    "    def __repr__(self):\n",
    "        q = \" NumWaiting: \" + str(len(self.waitingentities)) \n",
    "        return q\n",
    "    \n",
    "    # A new Entity arrives at this Queue\n",
    "    def ArriveatQueue(self, newtrans):\n",
    "        self.waitingentities.append(newtrans)\n",
    "    \n",
    "    # Exit queue and move to service\n",
    "    def pushBlock(self,t):\n",
    "        self.time.append(t)\n",
    "        number = np.minimum(len(self.waitingentities),self.K)\n",
    "        self.NumberinBlock.append(number)\n",
    "        winner = np.random.randint(0,self.N)\n",
    "        feesum = 0\n",
    "        totsum = 0\n",
    "        tosort = np.array([t.fee for t in self.waitingentities])\n",
    "        sorting = np.argsort(tosort)[-number:]\n",
    "        entitiess = np.array(self.waitingentities)[sorting]\n",
    "        blockdelay = 0\n",
    "        for i in np.arange(0,number):\n",
    "            entity = entitiess[i]\n",
    "            feesum = feesum + entity.fee\n",
    "            totsum = totsum + entity.amount\n",
    "            entity.endtime = t\n",
    "            self.finished.append(entity)\n",
    "            blockdelay = blockdelay + t - entity.starttime\n",
    "        self.avetime.append(blockdelay)\n",
    "        newwaiting = np.delete(np.array(self.waitingentities), sorting)\n",
    "        self.waitingentities = newwaiting.tolist()\n",
    "        self.totalfee.append(feesum)\n",
    "        self.totalamount.append(totsum)\n",
    "        self.accounts[winner] = self.accounts[winner] + feesum\n",
    "        self.Numblocks = self.Numblocks + 1"
   ]
  },
  {
   "cell_type": "code",
   "execution_count": 44,
   "metadata": {
    "scrolled": false
   },
   "outputs": [],
   "source": [
    "average_amt1 = []\n",
    "average_num1 = []\n",
    "average_fee1 = []\n",
    "average_delay1 = []\n",
    "\n",
    "average_delay = []\n",
    "average_amount = []\n",
    "\n",
    "ave_miner_profit = []\n",
    "\n",
    "barbazz = pd.DataFrame(columns=['delay(hours)', 'fee amount', \"rep\"])\n",
    "for gak in range(1, 21):\n",
    "    miners = np.zeros(gak)\n",
    "    t = 0\n",
    "    t_end = 100\n",
    "    trans_rate = 120\n",
    "    block_rate = 30\n",
    "    i = 6\n",
    "    Block = BlockQueue(block_rate,i)\n",
    "    qsize = []\n",
    "    times = []\n",
    "    duration = []\n",
    "    amountt = []\n",
    "    \n",
    "    total_rate = trans_rate + block_rate\n",
    "    nextEventTime = t + np.random.exponential(1/total_rate)\n",
    "    while t < t_end:\n",
    "        t = nextEventTime\n",
    "        U = np.random.rand()\n",
    "        if U <=trans_rate/total_rate:\n",
    "            event = 0 #transaction arrival\n",
    "        else:\n",
    "            event = 1 #block push\n",
    "\n",
    "        if event == 0:\n",
    "            newArrival = Transaction(t)\n",
    "            Block.ArriveatQueue(newArrival)\n",
    "\n",
    "        if event == 1:\n",
    "            Block.pushBlock(t)\n",
    "            \n",
    "        qsize.append(len(Block.waitingentities))\n",
    "\n",
    "        times.append(t)\n",
    "        nextEventTime = t + np.random.exponential(1/total_rate)\n",
    "\n",
    "    for j in np.arange(0,len(Block.finished)):\n",
    "        duration.append(Block.finished[j].endtime - Block.finished[j].starttime)\n",
    "        amountt.append(Block.finished[j].fee)\n",
    "        miners[np.random.randint(gak)] += Block.finished[j].fee\n",
    "\n",
    "    cumu = np.sum(Block.totalamount)\n",
    "    ave = cumu/Block.time[-1]\n",
    "    \n",
    "    feemu = np.sum(Block.totalfee)\n",
    "    avef = feemu/Block.time[-1]\n",
    "    \n",
    "    bnum = np.sum(Block.NumberinBlock)\n",
    "    avenum = bnum/Block.time[-1]\n",
    "    \n",
    "    ave_miner_profit.append(miners)\n",
    "    \n",
    "    \n",
    "    femu = np.cumsum(Block.avetime)\n",
    "    avet = femu/np.cumsum(Block.NumberinBlock)\n",
    "    \n",
    "    aved = femu[-1]/np.sum(Block.NumberinBlock)\n",
    "    \n",
    "    zipped = zip(duration, amountt)\n",
    "    saved = pd.DataFrame(list(sorted(zipped, key=lambda x: x[1])), columns=['delay(hours)', 'fee amount'])\n",
    "    saved[\"rep\"] = gak\n",
    "    \n",
    "    barbazz = pd.concat([barbazz, saved])\n",
    "    \n",
    "    average_amount.append(saved[\"fee amount\"].mean())\n",
    "    average_delay.append(saved[\"delay(hours)\"].mean())\n",
    "    \n",
    "    average_delay1.append(aved)\n",
    "    average_fee1.append(avef)\n",
    "    average_amt1.append(ave)\n",
    "    average_num1.append(avenum)"
   ]
  },
  {
   "cell_type": "code",
   "execution_count": 64,
   "metadata": {},
   "outputs": [
    {
     "data": {
      "image/png": "[encoded data removed]",
      "text/plain": [
       "<Figure size 432x288 with 1 Axes>"
      ]
     },
     "metadata": {
      "needs_background": "light"
     },
     "output_type": "display_data"
    }
   ],
   "source": [
    "plt.figure()\n",
    "df = pd.DataFrame(columns=[\"Num Miners\", \"Ave Profit\"])\n",
    "for i in range(1, 21):\n",
    "    a = ave_miner_profit[i-1]\n",
    "    for j in range(a.shape[0]):\n",
    "        tmp = pd.DataFrame({'Num Miners': [i], \"Ave Profit\": [a[j]]})\n",
    "        df = pd.concat([df, tmp])\n",
    "sns.lineplot(x=\"Num Miners\", y=\"Ave Profit\", data=df, ci=\"sd\")\n",
    "plt.title(\"Average Miner Profit per Miner Population\")\n",
    "plt.xlabel(\"Number of Miners\")\n",
    "plt.ylabel(\"Average Profit\")\n",
    "plt.savefig(\"MinorProfit.png\")"
   ]
  },
  {
   "cell_type": "code",
   "execution_count": 55,
   "metadata": {},
   "outputs": [
    {
     "data": {
      "text/html": [
       "<div>\n",
       "<style scoped>\n",
       "    .dataframe tbody tr th:only-of-type {\n",
       "        vertical-align: middle;\n",
       "    }\n",
       "\n",
       "    .dataframe tbody tr th {\n",
       "        vertical-align: top;\n",
       "    }\n",
       "\n",
       "    .dataframe thead th {\n",
       "        text-align: right;\n",
       "    }\n",
       "</style>\n",
       "<table border=\"1\" class=\"dataframe\">\n",
       "  <thead>\n",
       "    <tr style=\"text-align: right;\">\n",
       "      <th></th>\n",
       "      <th>Num Miners</th>\n",
       "      <th>Ave Profit</th>\n",
       "    </tr>\n",
       "  </thead>\n",
       "  <tbody>\n",
       "  </tbody>\n",
       "</table>\n",
       "</div>"
      ],
      "text/plain": [
       "Empty DataFrame\n",
       "Columns: [Num Miners, Ave Profit]\n",
       "Index: []"
      ]
     },
     "execution_count": 55,
     "metadata": {},
     "output_type": "execute_result"
    }
   ],
   "source": [
    "df"
   ]
  },
  {
   "cell_type": "code",
   "execution_count": 24,
   "metadata": {},
   "outputs": [
    {
     "data": {
      "text/plain": [
       "(5989, 3)"
      ]
     },
     "execution_count": 24,
     "metadata": {},
     "output_type": "execute_result"
    }
   ],
   "source": [
    "barbazz.shape"
   ]
  },
  {
   "cell_type": "code",
   "execution_count": 23,
   "metadata": {},
   "outputs": [],
   "source": [
    "barbazz = barbazz.sample(frac=.01)"
   ]
  },
  {
   "cell_type": "code",
   "execution_count": 25,
   "metadata": {},
   "outputs": [],
   "source": [
    "mod = gp.GaussianProcessRegressor().fit(barbazz[\"delay(hours)\"][:, np.newaxis], barbazz[\"fee amount\"])"
   ]
  },
  {
   "cell_type": "code",
   "execution_count": 31,
   "metadata": {},
   "outputs": [
    {
     "data": {
      "image/png": "[encoded data removed]",
      "text/plain": [
       "<Figure size 432x288 with 1 Axes>"
      ]
     },
     "metadata": {
      "needs_background": "light"
     },
     "output_type": "display_data"
    }
   ],
   "source": [
    "X = np.linspace(0, 0.5, 100)\n",
    "ymean, ystd = mod.predict(X[:, np.newaxis], return_std=True)\n",
    "plt.figure()\n",
    "plt.plot(X, ymean)\n",
    "plt.fill_between(X, ymean - ystd, ymean + ystd, alpha=0.1)\n",
    "plt.title(\"Model Fit for Fee Amount as a function of Delay(Hours)\")\n",
    "plt.ylabel(\"Recommended Fee Amount\")\n",
    "plt.xlabel(\"Desired Dealay(hours)\")\n",
    "plt.savefig(\"TwoRateModel.png\")"
   ]
  },
  {
   "cell_type": "code",
   "execution_count": 43,
   "metadata": {},
   "outputs": [
    {
     "data": {
      "text/plain": [
       "array([0.20624542, 0.14850616, 0.12242126, 0.11394882, 0.10525894])"
      ]
     },
     "execution_count": 43,
     "metadata": {},
     "output_type": "execute_result"
    }
   ],
   "source": [
    "mod.predict([[.1], [.2], [.3], [.4], [.5]])"
   ]
  },
  {
   "cell_type": "code",
   "execution_count": 116,
   "metadata": {},
   "outputs": [
    {
     "data": {
      "image/png": "[encoded data removed]",
      "text/plain": [
       "<Figure size 432x288 with 1 Axes>"
      ]
     },
     "metadata": {
      "needs_background": "light"
     },
     "output_type": "display_data"
    },
    {
     "data": {
      "image/png": "[encoded data removed]",
      "text/plain": [
       "<Figure size 432x288 with 1 Axes>"
      ]
     },
     "metadata": {
      "needs_background": "light"
     },
     "output_type": "display_data"
    }
   ],
   "source": [
    "plt.plot(np.arange(1,21), average_amt1)\n",
    "plt.xticks(np.arange(1, 21, 2))\n",
    "plt.ylabel(\"Average Amount\")\n",
    "plt.xlabel(\"K (Transactions/Block)\")\n",
    "plt.title(\"Average Amount Transferred for Different K values\")\n",
    "plt.show()\n",
    "\n",
    "plt.plot(np.arange(1,21), average_num1)\n",
    "plt.xticks(np.arange(1, 21, 2))\n",
    "plt.ylabel(\"Average Transactions\")\n",
    "plt.xlabel(\"K (Transactions/Block)\")\n",
    "plt.title(\"Average Number of Transactions for Different K values\")\n",
    "plt.show()\n",
    "\n",
    "plt.plot(np.arange(1,21), average_fee1)\n",
    "plt.xticks(np.arange(1, 21, 2))\n",
    "plt.ylabel(\"Average Fees\")\n",
    "plt.xlabel(\"K (Transactions/Block)\")\n",
    "plt.title(\"Average Fees for Different K values\")\n",
    "plt.show()\n",
    "\n",
    "plt.plot(np.arange(1,21), average_delay1)\n",
    "plt.xticks(np.arange(1, 21, 2))\n",
    "plt.ylabel(\"Average Delay\")\n",
    "plt.xlabel(\"K (Transactions/Block)\")\n",
    "plt.title(\"Average Delay for Different K values\")\n",
    "plt.show()"
   ]
  },
  {
   "cell_type": "code",
   "execution_count": 57,
   "metadata": {},
   "outputs": [
    {
     "name": "stdout",
     "output_type": "stream",
     "text": [
      "[2442.12633637 2179.73026367 1700.99875621 ... 1772.48514252 1772.46649384\n",
      " 1772.42043311]\n",
      "[143.65449037 137.18582079 105.37160437 ... 118.16800986 118.16609975\n",
      " 118.16302899]\n"
     ]
    }
   ],
   "source": [
    "print(np.array(ave)[-1])\n",
    "print(np.array(avenum)[-1])"
   ]
  },
  {
   "cell_type": "code",
   "execution_count": 36,
   "metadata": {},
   "outputs": [
    {
     "data": {
      "image/png": "[encoded data removed]",
      "text/plain": [
       "<Figure size 432x288 with 1 Axes>"
      ]
     },
     "metadata": {
      "needs_background": "light"
     },
     "output_type": "display_data"
    },
    {
     "data": {
      "image/png": "[encoded data removed]",
      "text/plain": [
       "<Figure size 432x288 with 1 Axes>"
      ]
     },
     "metadata": {
      "needs_background": "light"
     },
     "output_type": "display_data"
    },
    {
     "name": "stdout",
     "output_type": "stream",
     "text": [
      "0.13601695841224187 0.03503714859398411 0.292764386537681 0.0385033496198127\n"
     ]
    }
   ],
   "source": [
    "new = saved.groupby(['fee amount']).mean().reset_index()\n",
    "plt.scatter(new['fee amount'], new['delay(hours)'])\n",
    "plt.show()\n",
    "\n",
    "from scipy.stats import norm\n",
    "\n",
    "amounttt = np.array(amountt)\n",
    "delayy = np.array(duration)\n",
    "where = np.where(np.logical_and(amounttt >= 0, amounttt <= 0.25))\n",
    "plt.hist(delayy[where],label = \"0 to 0.5\")\n",
    "plt.xlabel(\"delay (hours)\")\n",
    "mu1, std1 = norm.fit(delayy[where])\n",
    "\n",
    "where = np.where(np.logical_and(amounttt > 0.25, amounttt <= 0.5))\n",
    "plt.hist(delayy[where],label = \"0.5 to 0.1\")\n",
    "mu3, std3 = norm.fit(delayy[where])\n",
    "\n",
    "plt.legend()\n",
    "plt.show()\n",
    "print(mu1,mu3,std1, std3)\n"
   ]
  },
  {
   "cell_type": "code",
   "execution_count": 42,
   "metadata": {},
   "outputs": [],
   "source": [
    "mod = gp.GaussianProcessRegressor().fit(new[\"delay(hours)\"][:, np.newaxis], new[\"fee amount\"])"
   ]
  },
  {
   "cell_type": "code",
   "execution_count": 52,
   "metadata": {},
   "outputs": [
    {
     "data": {
      "text/plain": [
       "array([0.72560304, 0.07124698])"
      ]
     },
     "execution_count": 52,
     "metadata": {},
     "output_type": "execute_result"
    }
   ],
   "source": [
    "mod.predict([[.001], [.5]])"
   ]
  },
  {
   "cell_type": "code",
   "execution_count": null,
   "metadata": {},
   "outputs": [],
   "source": []
  }
 ],
 "metadata": {
  "kernelspec": {
   "display_name": "Python 3",
   "language": "python",
   "name": "python3"
  },
  "language_info": {
   "codemirror_mode": {
    "name": "ipython",
    "version": 3
   },
   "file_extension": ".py",
   "mimetype": "text/x-python",
   "name": "python",
   "nbconvert_exporter": "python",
   "pygments_lexer": "ipython3",
   "version": "3.7.0"
  }
 },
 "nbformat": 4,
 "nbformat_minor": 2
}
